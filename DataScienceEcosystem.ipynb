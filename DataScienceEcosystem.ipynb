{
  "metadata": {
    "language_info": {
      "codemirror_mode": {
        "name": "python",
        "version": 3
      },
      "file_extension": ".py",
      "mimetype": "text/x-python",
      "name": "python",
      "nbconvert_exporter": "python",
      "pygments_lexer": "ipython3",
      "version": "3.8"
    },
    "kernelspec": {
      "name": "python",
      "display_name": "Python (Pyodide)",
      "language": "python"
    }
  },
  "nbformat_minor": 4,
  "nbformat": 4,
  "cells": [
    {
      "cell_type": "markdown",
      "source": "# Exercise 2\n## JupyterLite Notebook IBM Module 2 Data Science Assignment",
      "metadata": {}
    },
    {
      "cell_type": "markdown",
      "source": "# Exercise 3\n## Introduction --- A notebook assignment for Tools in Data Science",
      "metadata": {}
    },
    {
      "cell_type": "markdown",
      "source": "## Exercise 4\n### Data Science Languages\n1. Python\n1. C++\n1. Matlab\n1. Scala\n1. Java\n1. SQL\n1. SAS",
      "metadata": {}
    },
    {
      "cell_type": "markdown",
      "source": "## Exercise 5\n### Data Science Libraries\n1. SciPy\n1. Numpy\n1. Matplotlib\n1. Scikit-learn\n1. Pytorch\n1. Tensorflow",
      "metadata": {}
    },
    {
      "cell_type": "markdown",
      "source": "## Exercise 6\n### Data Science Tools\n| Item | Data Science Tools |    Remarks    |\n| ---- | ------------------ | ------------- |\n| No.1 |        SAS         | Statistic |\n| No.2 |    ApacheSpark     | Batch and Stream Processing |\n| No.3 |       BigML        | Machine Learning |\n| No.4 |       D3.js        | Interactive Visualization |\n| No.5 |      Tableau       | Data Visualization |\n",
      "metadata": {}
    },
    {
      "cell_type": "markdown",
      "source": "## Exercise 7\n***Arithmetic Expression Example:***\n* Addition\n5+5 = 10\n\n* Subtraction\n10-5 = 5\n\n* Multiplication\n5x2 = 10\n\n* Division\n10/5 = 2\n",
      "metadata": {}
    },
    {
      "cell_type": "code",
      "source": "# Exercise 8\n# A simple code to solve simple mathematic problems\n5*2+10",
      "metadata": {
        "tags": [],
        "trusted": true
      },
      "execution_count": 9,
      "outputs": [
        {
          "execution_count": 9,
          "output_type": "execute_result",
          "data": {
            "text/plain": "20"
          },
          "metadata": {}
        }
      ]
    },
    {
      "cell_type": "code",
      "source": "# Exercise 9\n# A code to convert minutes to hours\n# In this example, the code will convert 95 minutes to hours\n# x is equal to 95 minutes\n# y is equal to the value in hours\n\nx=95\ny=95/60\n\nprint(x, \"minutes is equal to\", round(y,2), \"hours\")\n\n",
      "metadata": {
        "tags": []
      },
      "execution_count": null,
      "outputs": [
        {
          "name": "stdout",
          "text": "95 minutes is equal to 1.58 hours\n",
          "output_type": "stream"
        }
      ]
    },
    {
      "cell_type": "markdown",
      "source": "## Exercise 10\n\nObjectives:\n* Simple coding and markdown exercises to familiarize with Python syntax in Jupyter notebook\n* Sharing process in Github\n    1. Need to specify the 'master' branch for integration\n    1. Creating the token and url\n    1. The extenson of sharing for this exercise with ther users\n",
      "metadata": {}
    },
    {
      "cell_type": "markdown",
      "source": "## Exercise 11\n## Author: \nOthman Haikal",
      "metadata": {}
    },
    {
      "cell_type": "code",
      "source": "",
      "metadata": {},
      "execution_count": null,
      "outputs": []
    }
  ]
}